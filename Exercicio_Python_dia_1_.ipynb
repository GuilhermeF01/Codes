{
  "nbformat": 4,
  "nbformat_minor": 0,
  "metadata": {
    "colab": {
      "provenance": [],
      "authorship_tag": "ABX9TyOgRgwDREkRwPaN86GBb2mQ",
      "include_colab_link": true
    },
    "kernelspec": {
      "name": "python3",
      "display_name": "Python 3"
    },
    "language_info": {
      "name": "python"
    }
  },
  "cells": [
    {
      "cell_type": "markdown",
      "metadata": {
        "id": "view-in-github",
        "colab_type": "text"
      },
      "source": [
        "<a href=\"https://colab.research.google.com/github/GuilhermeF01/Codes/blob/main/Exercicio_Python_dia_1_.ipynb\" target=\"_parent\"><img src=\"https://colab.research.google.com/assets/colab-badge.svg\" alt=\"Open In Colab\"/></a>"
      ]
    },
    {
      "cell_type": "markdown",
      "source": [
        "🐍 Exercício - Jogo de Adivinhação Simples\n",
        "Descrição:\n",
        "Crie um programa onde o computador escolhe um número aleatório entre 1 e 50, e o usuário tem que adivinhar.\n",
        "O programa deve dar dicas dizendo se o palpite do usuário está \"muito alto\", \"muito baixo\" ou \"certo\".\n",
        "\n",
        "Requisitos:\n",
        "Use o módulo random para gerar o número.\n",
        "\n",
        "Use um laço de repetição (while) para continuar perguntando até o usuário acertar.\n",
        "\n",
        "Conte quantas tentativas o usuário precisou para acertar.\n",
        "\n",
        "Após o acerto, mostre uma mensagem com o número de tentativas."
      ],
      "metadata": {
        "id": "HViNbkJhpDib"
      }
    },
    {
      "cell_type": "code",
      "source": [
        "# Importando as Libs\n",
        "import random"
      ],
      "metadata": {
        "id": "U74Oy2mppETp"
      },
      "execution_count": 36,
      "outputs": []
    },
    {
      "cell_type": "code",
      "source": [
        "numero_aleatorio = random.randint(1, 50)\n",
        "tentativas = 0"
      ],
      "metadata": {
        "id": "VOqHhtPVpGDB"
      },
      "execution_count": 37,
      "outputs": []
    },
    {
      "cell_type": "code",
      "source": [
        "while True :\n",
        "   palpite = int(input(\"Digite um palpite: \"))\n",
        "   tentativas += 1\n",
        "\n",
        "   if palpite > numero_aleatorio:\n",
        "    print(\"Muito alto!\")\n",
        "   elif palpite < numero_aleatorio:\n",
        "    print(\"Muito baixo!\")\n",
        "   else:\n",
        "    print(f\"Acertou!, você acertou em {tentativas} em tentativas\")\n",
        "    break"
      ],
      "metadata": {
        "colab": {
          "base_uri": "https://localhost:8080/"
        },
        "id": "liLTKTiwpZT2",
        "outputId": "660f825e-9493-48f4-bc2f-475af16347ce"
      },
      "execution_count": 38,
      "outputs": [
        {
          "output_type": "stream",
          "name": "stdout",
          "text": [
            "Digite um palpite: 50\n",
            "Muito alto!\n",
            "Digite um palpite: 30\n",
            "Muito baixo!\n",
            "Digite um palpite: 25\n",
            "Muito baixo!\n",
            "Digite um palpite: 15\n",
            "Muito baixo!\n",
            "Digite um palpite: 30\n",
            "Muito baixo!\n",
            "Digite um palpite: 35\n",
            "Muito baixo!\n",
            "Digite um palpite: 36\n",
            "Muito baixo!\n",
            "Digite um palpite: 37\n",
            "Muito baixo!\n",
            "Digite um palpite: 40\n",
            "Muito baixo!\n",
            "Digite um palpite: 45\n",
            "Muito baixo!\n",
            "Digite um palpite: 47\n",
            "Acertou!, você acertou em 11 em tentativas\n"
          ]
        }
      ]
    },
    {
      "cell_type": "code",
      "source": [],
      "metadata": {
        "id": "1ixtNqoAp-fg"
      },
      "execution_count": 38,
      "outputs": []
    },
    {
      "cell_type": "markdown",
      "source": [
        "🐍 Exercício - Calculadora de Tabuada Personalizada\n",
        "Descrição:\n",
        "Crie um programa em Python que peça ao usuário um número inteiro, e mostre a tabuada desse número de 1 a 10.\n",
        "\n",
        "PLUS:\n",
        "Depois de mostrar a tabuada, pergunte se o usuário quer calcular outra tabuada.\n",
        "Se ele digitar \"s\", repita tudo de novo.\n",
        "Se ele digitar \"n\", finalize o programa com uma mensagem de despedida."
      ],
      "metadata": {
        "id": "D3LmtxjPsrNT"
      }
    },
    {
      "cell_type": "code",
      "source": [
        "while True :\n",
        "  numero = int(input(\"Digite um número: \"))\n",
        "  for i in range(1, 11):\n",
        "    print(f\"{numero} x {i} = {numero * i}\")\n",
        "\n",
        "  numero2 = input(\"Quer calcular outra tabuada? (s/n): \").lower()\n",
        "\n",
        "  if numero2 == \"s\":\n",
        "    continue\n",
        "  else:\n",
        "    print(\"Obrigado por usar a calculadora\")\n",
        "    break"
      ],
      "metadata": {
        "colab": {
          "base_uri": "https://localhost:8080/"
        },
        "id": "D0_0XPmls_EF",
        "outputId": "46a1c558-9a5b-4c00-bf62-382586f54410"
      },
      "execution_count": 40,
      "outputs": [
        {
          "output_type": "stream",
          "name": "stdout",
          "text": [
            "Digite um número: 5\n",
            "5 x 1 = 5\n",
            "5 x 2 = 10\n",
            "5 x 3 = 15\n",
            "5 x 4 = 20\n",
            "5 x 5 = 25\n",
            "5 x 6 = 30\n",
            "5 x 7 = 35\n",
            "5 x 8 = 40\n",
            "5 x 9 = 45\n",
            "5 x 10 = 50\n",
            "Quer calcular outra tabuada? (s/n): s\n",
            "Digite um número: 4\n",
            "4 x 1 = 4\n",
            "4 x 2 = 8\n",
            "4 x 3 = 12\n",
            "4 x 4 = 16\n",
            "4 x 5 = 20\n",
            "4 x 6 = 24\n",
            "4 x 7 = 28\n",
            "4 x 8 = 32\n",
            "4 x 9 = 36\n",
            "4 x 10 = 40\n",
            "Quer calcular outra tabuada? (s/n): n\n",
            "Obrigado por usar a calculadora\n"
          ]
        }
      ]
    },
    {
      "cell_type": "code",
      "source": [],
      "metadata": {
        "id": "sJuKqBKptL2H"
      },
      "execution_count": null,
      "outputs": []
    }
  ]
}