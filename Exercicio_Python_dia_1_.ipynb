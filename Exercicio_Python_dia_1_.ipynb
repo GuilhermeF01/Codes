{
  "nbformat": 4,
  "nbformat_minor": 0,
  "metadata": {
    "colab": {
      "provenance": [],
      "authorship_tag": "ABX9TyOgRgwDREkRwPaN86GBb2mQ",
      "include_colab_link": true
    },
    "kernelspec": {
      "name": "python3",
      "display_name": "Python 3"
    },
    "language_info": {
      "name": "python"
    }
  },
  "cells": [
    {
      "cell_type": "markdown",
      "metadata": {
        "id": "view-in-github",
        "colab_type": "text"
      },
      "source": [
        "<a href=\"https://colab.research.google.com/github/GuilhermeF01/Codes/blob/main/Exercicio_Python_dia_1_.ipynb\" target=\"_parent\"><img src=\"https://colab.research.google.com/assets/colab-badge.svg\" alt=\"Open In Colab\"/></a>"
      ]
    },
    {
      "cell_type": "markdown",
      "source": [
        "🐍 Exercício - Jogo de Adivinhação Simples\n",
        "Descrição:\n",
        "Crie um programa onde o computador escolhe um número aleatório entre 1 e 50, e o usuário tem que adivinhar.\n",
        "O programa deve dar dicas dizendo se o palpite do usuário está \"muito alto\", \"muito baixo\" ou \"certo\".\n",
        "\n",
        "Requisitos:\n",
        "Use o módulo random para gerar o número.\n",
        "\n",
        "Use um laço de repetição (while) para continuar perguntando até o usuário acertar.\n",
        "\n",
        "Conte quantas tentativas o usuário precisou para acertar.\n",
        "\n",
        "Após o acerto, mostre uma mensagem com o número de tentativas."
      ],
      "metadata": {
        "id": "HViNbkJhpDib"
      }
    },
    {
      "cell_type": "code",
      "source": [
        "# Importando as Libs\n",
        "import random"
      ],
      "metadata": {
        "id": "U74Oy2mppETp"
      },
      "execution_count": 36,
      "outputs": []
    },
    {
      "cell_type": "code",
      "source": [
        "numero_aleatorio = random.randint(1, 50)\n",
        "tentativas = 0"
      ],
      "metadata": {
        "id": "VOqHhtPVpGDB"
      },
      "execution_count": 37,
      "outputs": []
    },
    {
      "cell_type": "code",
      "source": [
        "while True :\n",
        "   palpite = int(input(\"Digite um palpite: \"))\n",
        "   tentativas += 1\n",
        "\n",
        "   if palpite > numero_aleatorio:\n",
        "    print(\"Muito alto!\")\n",
        "   elif palpite < numero_aleatorio:\n",
        "    print(\"Muito baixo!\")\n",
        "   else:\n",
        "    print(f\"Acertou!, você acertou em {tentativas} em tentativas\")\n",
        "    break"
      ],
      "metadata": {
        "colab": {
          "base_uri": "https://localhost:8080/"
        },
        "id": "liLTKTiwpZT2",
        "outputId": "660f825e-9493-48f4-bc2f-475af16347ce"
      },
      "execution_count": 38,
      "outputs": [
        {
          "output_type": "stream",
          "name": "stdout",
          "text": [
            "Digite um palpite: 50\n",
            "Muito alto!\n",
            "Digite um palpite: 30\n",
            "Muito baixo!\n",
            "Digite um palpite: 25\n",
            "Muito baixo!\n",
            "Digite um palpite: 15\n",
            "Muito baixo!\n",
            "Digite um palpite: 30\n",
            "Muito baixo!\n",
            "Digite um palpite: 35\n",
            "Muito baixo!\n",
            "Digite um palpite: 36\n",
            "Muito baixo!\n",
            "Digite um palpite: 37\n",
            "Muito baixo!\n",
            "Digite um palpite: 40\n",
            "Muito baixo!\n",
            "Digite um palpite: 45\n",
            "Muito baixo!\n",
            "Digite um palpite: 47\n",
            "Acertou!, você acertou em 11 em tentativas\n"
          ]
        }
      ]
    },
    {
      "cell_type": "code",
      "source": [],
      "metadata": {
        "id": "1ixtNqoAp-fg"
      },
      "execution_count": 38,
      "outputs": []
    },
    {
      "cell_type": "markdown",
      "source": [
        "🐍 Exercício - Calculadora de Tabuada Personalizada\n",
        "Descrição:\n",
        "Crie um programa em Python que peça ao usuário um número inteiro, e mostre a tabuada desse número de 1 a 10.\n",
        "\n",
        "PLUS:\n",
        "Depois de mostrar a tabuada, pergunte se o usuário quer calcular outra tabuada.\n",
        "Se ele digitar \"s\", repita tudo de novo.\n",
        "Se ele digitar \"n\", finalize o programa com uma mensagem de despedida."
      ],
      "metadata": {
        "id": "D3LmtxjPsrNT"
      }
    },
    {
      "cell_type": "code",
      "source": [
        "while True :\n",
        "  numero = int(input(\"Digite um número: \"))\n",
        "  for i in range(1, 11):\n",
        "    print(f\"{numero} x {i} = {numero * i}\")\n",
        "\n",
        "  numero2 = input(\"Quer calcular outra tabuada? (s/n): \").lower()\n",
        "\n",
        "  if numero2 == \"s\":\n",
        "    continue\n",
        "  else:\n",
        "    print(\"Obrigado por usar a calculadora\")\n",
        "    break"
      ],
      "metadata": {
        "colab": {
          "base_uri": "https://localhost:8080/",
          "height": 430
        },
        "id": "D0_0XPmls_EF",
        "outputId": "bf5a5932-8ea8-4cfe-9e08-f17cc06ce705"
      },
      "execution_count": 39,
      "outputs": [
        {
          "name": "stdout",
          "output_type": "stream",
          "text": [
            "Digite um número: 10\n",
            "10 x 1 = 10\n",
            "10 x 2 = 20\n",
            "10 x 3 = 30\n",
            "10 x 4 = 40\n",
            "10 x 5 = 50\n",
            "10 x 6 = 60\n",
            "10 x 7 = 70\n",
            "10 x 8 = 80\n",
            "10 x 9 = 90\n",
            "10 x 10 = 100\n",
            "Quer calcular outra tabuada?s\n"
          ]
        },
        {
          "output_type": "error",
          "ename": "ValueError",
          "evalue": "invalid literal for int() with base 10: 's'",
          "traceback": [
            "\u001b[0;31m---------------------------------------------------------------------------\u001b[0m",
            "\u001b[0;31mValueError\u001b[0m                                Traceback (most recent call last)",
            "\u001b[0;32m/tmp/ipython-input-39-3669393275.py\u001b[0m in \u001b[0;36m<cell line: 0>\u001b[0;34m()\u001b[0m\n\u001b[1;32m      4\u001b[0m     \u001b[0mprint\u001b[0m\u001b[0;34m(\u001b[0m\u001b[0;34mf\"{numero} x {i} = {numero * i}\"\u001b[0m\u001b[0;34m)\u001b[0m\u001b[0;34m\u001b[0m\u001b[0;34m\u001b[0m\u001b[0m\n\u001b[1;32m      5\u001b[0m \u001b[0;34m\u001b[0m\u001b[0m\n\u001b[0;32m----> 6\u001b[0;31m   \u001b[0mnumero2\u001b[0m \u001b[0;34m=\u001b[0m \u001b[0mint\u001b[0m\u001b[0;34m(\u001b[0m\u001b[0minput\u001b[0m\u001b[0;34m(\u001b[0m\u001b[0;34m\"Quer calcular outra tabuada?\"\u001b[0m\u001b[0;34m)\u001b[0m\u001b[0;34m)\u001b[0m\u001b[0;34m\u001b[0m\u001b[0;34m\u001b[0m\u001b[0m\n\u001b[0m\u001b[1;32m      7\u001b[0m   \u001b[0;32mif\u001b[0m \u001b[0mnumero2\u001b[0m \u001b[0;34m==\u001b[0m \u001b[0;34m\"s\"\u001b[0m\u001b[0;34m:\u001b[0m\u001b[0;34m\u001b[0m\u001b[0;34m\u001b[0m\u001b[0m\n\u001b[1;32m      8\u001b[0m     \u001b[0;32mcontinue\u001b[0m\u001b[0;34m\u001b[0m\u001b[0;34m\u001b[0m\u001b[0m\n",
            "\u001b[0;31mValueError\u001b[0m: invalid literal for int() with base 10: 's'"
          ]
        }
      ]
    },
    {
      "cell_type": "code",
      "source": [],
      "metadata": {
        "id": "sJuKqBKptL2H"
      },
      "execution_count": null,
      "outputs": []
    }
  ]
}